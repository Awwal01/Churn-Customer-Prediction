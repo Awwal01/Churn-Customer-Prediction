{
 "cells": [
  {
   "cell_type": "code",
   "execution_count": 1,
   "metadata": {},
   "outputs": [],
   "source": [
    "import numpy as np\n",
    "import pandas as pd\n",
    "import matplotlib.pyplot as plt\n",
    "%matplotlib inline\n",
    "import seaborn as sns\n",
    "import plotly.offline as py\n",
    "sns.set_style('darkgrid')\n",
    "import plotly.offline as py\n",
    "import plotly.graph_objs as go\n",
    "\n",
    "from sklearn.preprocessing import LabelEncoder, StandardScaler\n",
    "from sklearn.decomposition import PCA\n",
    "from sklearn.model_selection import train_test_split\n",
    "from sklearn.metrics import classification_report, confusion_matrix, accuracy_score\n",
    "from sklearn.metrics import roc_auc_score, roc_curve, auc\n",
    "from sklearn.linear_model import LogisticRegression\n",
    "from sklearn.svm import SVC\n",
    "from sklearn.pipeline import Pipeline\n",
    "from sklearn.model_selection import cross_val_score, KFold\n",
    "from xgboost import XGBClassifier\n",
    "from sklearn.ensemble import RandomForestClassifier\n",
    "\n",
    "import warnings\n",
    "warnings.filterwarnings('ignore')\n",
    "\n",
    "import os"
   ]
  },
  {
   "cell_type": "code",
   "execution_count": 2,
   "metadata": {},
   "outputs": [
    {
     "data": {
      "text/plain": [
       "[('./',\n",
       "  ['.git', '.ipynb_checkpoints', 'plots folder'],\n",
       "  ['Untitled - Copy.ipynb']),\n",
       " ('./.git',\n",
       "  ['hooks', 'info', 'objects', 'refs'],\n",
       "  ['config', 'description', 'HEAD', 'index']),\n",
       " ('./.git\\\\hooks',\n",
       "  [],\n",
       "  ['applypatch-msg.sample',\n",
       "   'commit-msg.sample',\n",
       "   'fsmonitor-watchman.sample',\n",
       "   'post-update.sample',\n",
       "   'pre-applypatch.sample',\n",
       "   'pre-commit.sample',\n",
       "   'pre-push.sample',\n",
       "   'pre-rebase.sample',\n",
       "   'pre-receive.sample',\n",
       "   'prepare-commit-msg.sample',\n",
       "   'update.sample']),\n",
       " ('./.git\\\\info', [], ['exclude']),\n",
       " ('./.git\\\\objects',\n",
       "  ['14',\n",
       "   '16',\n",
       "   '17',\n",
       "   '23',\n",
       "   '25',\n",
       "   '41',\n",
       "   '44',\n",
       "   '51',\n",
       "   '59',\n",
       "   '5e',\n",
       "   '9a',\n",
       "   'ac',\n",
       "   'ad',\n",
       "   'bc',\n",
       "   'be',\n",
       "   'cb',\n",
       "   'cd',\n",
       "   'cf',\n",
       "   'f1',\n",
       "   'fd',\n",
       "   'fe',\n",
       "   'info',\n",
       "   'pack'],\n",
       "  []),\n",
       " ('./.git\\\\objects\\\\14', [], ['21bf3a40cf7534a79b26712d8f270173ad4948']),\n",
       " ('./.git\\\\objects\\\\16', [], ['0adb35f356223d6a854f0183218a87409e4a7f']),\n",
       " ('./.git\\\\objects\\\\17', [], ['37437ff9e2be5175144ea9d9217521489778f1']),\n",
       " ('./.git\\\\objects\\\\23', [], ['b4c61425c44a66e4a6eb79b520ec5a9beb4453']),\n",
       " ('./.git\\\\objects\\\\25',\n",
       "  [],\n",
       "  ['9171048fe8bf5c815fd831d3f0df54455aeea7',\n",
       "   'b8b21a38bddd1f1404ac569c62cfe6d9ad96e0']),\n",
       " ('./.git\\\\objects\\\\41', [], ['f8ee454c1135c620bdd12ce94da4e0bb7f855d']),\n",
       " ('./.git\\\\objects\\\\44', [], ['2943c44a13b9b320eb0a16c39d8368af50b360']),\n",
       " ('./.git\\\\objects\\\\51', [], ['18fe0678af0ef9dc8a2a6a89585e9068c3e3f5']),\n",
       " ('./.git\\\\objects\\\\59', [], ['87ad1fdf2596dc6bdd45953ff5f0d65e19bcab']),\n",
       " ('./.git\\\\objects\\\\5e', [], ['caf3976747e33d0980610338e26e7b8cc9966a']),\n",
       " ('./.git\\\\objects\\\\9a', [], ['036ae4f37016b86dc5cd81dade892d265e19ea']),\n",
       " ('./.git\\\\objects\\\\ac', [], ['9084de51d480b7e4e09f7df6bfeac0511a3477']),\n",
       " ('./.git\\\\objects\\\\ad', [], ['0fc470b5541c6caa41cfba9eb5c3623cafe2fc']),\n",
       " ('./.git\\\\objects\\\\bc', [], ['a2fa05ac76e5dcf4cc5b4a169073ee517ff247']),\n",
       " ('./.git\\\\objects\\\\be', [], ['28e1887d942f107868b3f39f2befd916a78b1d']),\n",
       " ('./.git\\\\objects\\\\cb', [], ['5cd39964902de92343bc32a4d7f85a0c1cc7b7']),\n",
       " ('./.git\\\\objects\\\\cd',\n",
       "  [],\n",
       "  ['62d937119b374c16db72621513cc1d64f0baf7',\n",
       "   'bd076520cc253515bf9a178c6578d94a18d2ac']),\n",
       " ('./.git\\\\objects\\\\cf', [], ['aa3e1cced53fd6d4bdc8f00a878d81bed07cba']),\n",
       " ('./.git\\\\objects\\\\f1', [], ['331d02c1b6c3802366ba4ceb43b14cb3b6cb73']),\n",
       " ('./.git\\\\objects\\\\fd', [], ['9c721b6a17d10b9c7ccfddfda7b52c16ad5aa0']),\n",
       " ('./.git\\\\objects\\\\fe', [], ['498f4d25cc8026502c2d02b5dfe9439f9f3b64']),\n",
       " ('./.git\\\\objects\\\\info', [], []),\n",
       " ('./.git\\\\objects\\\\pack', [], []),\n",
       " ('./.git\\\\refs', ['heads', 'tags'], []),\n",
       " ('./.git\\\\refs\\\\heads', [], []),\n",
       " ('./.git\\\\refs\\\\tags', [], []),\n",
       " ('./.ipynb_checkpoints', [], []),\n",
       " ('./plots folder',\n",
       "  [],\n",
       "  ['fig10.png',\n",
       "   'fig_barMonthlyCharges.png',\n",
       "   'fig_barSeniorCitizen.png',\n",
       "   'fig_bartenure.png',\n",
       "   'fig_pieChurn.png',\n",
       "   'fig_pieContract.png',\n",
       "   'fig_pieDependents.png',\n",
       "   'fig_pieDeviceProtection.png',\n",
       "   'fig_piegender.png',\n",
       "   'fig_pieInternetService.png',\n",
       "   'fig_pieMultipleLines.png',\n",
       "   'fig_pieOnlineBackup.png',\n",
       "   'fig_pieOnlineSecurity.png',\n",
       "   'fig_piePaperlessBilling.png',\n",
       "   'fig_piePartner.png',\n",
       "   'fig_piePaymentMethod.png',\n",
       "   'fig_piePhoneService.png',\n",
       "   'fig_pieStreamingMovies.png',\n",
       "   'fig_pieStreamingTV.png',\n",
       "   'fig_pieTechSupport.png',\n",
       "   'fig_pieTotalCharges.png',\n",
       "   'fig_pie{str(count)}.png',\n",
       "   'ROC curve.png'])]"
      ]
     },
     "execution_count": 2,
     "metadata": {},
     "output_type": "execute_result"
    }
   ],
   "source": [
    "[x for x in os.walk('./')]"
   ]
  },
  {
   "cell_type": "code",
   "execution_count": 3,
   "metadata": {},
   "outputs": [
    {
     "ename": "FileNotFoundError",
     "evalue": "File b'WA_Fn-UseC_-Telco-Customer-Churn.csv' does not exist",
     "output_type": "error",
     "traceback": [
      "\u001b[1;31m---------------------------------------------------------------------------\u001b[0m",
      "\u001b[1;31mFileNotFoundError\u001b[0m                         Traceback (most recent call last)",
      "\u001b[1;32m<ipython-input-3-780a5c1c0cc5>\u001b[0m in \u001b[0;36m<module>\u001b[1;34m()\u001b[0m\n\u001b[1;32m----> 1\u001b[1;33m \u001b[0mdf_load\u001b[0m \u001b[1;33m=\u001b[0m \u001b[0mpd\u001b[0m\u001b[1;33m.\u001b[0m\u001b[0mread_csv\u001b[0m\u001b[1;33m(\u001b[0m\u001b[1;34m'WA_Fn-UseC_-Telco-Customer-Churn.csv'\u001b[0m\u001b[1;33m)\u001b[0m\u001b[1;33m\u001b[0m\u001b[0m\n\u001b[0m\u001b[0;32m      2\u001b[0m \u001b[0mdf_load\u001b[0m\u001b[1;33m.\u001b[0m\u001b[0mhead\u001b[0m\u001b[1;33m(\u001b[0m\u001b[1;33m)\u001b[0m\u001b[1;33m\u001b[0m\u001b[0m\n",
      "\u001b[1;32m~\\Anaconda3\\lib\\site-packages\\pandas\\io\\parsers.py\u001b[0m in \u001b[0;36mparser_f\u001b[1;34m(filepath_or_buffer, sep, delimiter, header, names, index_col, usecols, squeeze, prefix, mangle_dupe_cols, dtype, engine, converters, true_values, false_values, skipinitialspace, skiprows, nrows, na_values, keep_default_na, na_filter, verbose, skip_blank_lines, parse_dates, infer_datetime_format, keep_date_col, date_parser, dayfirst, iterator, chunksize, compression, thousands, decimal, lineterminator, quotechar, quoting, escapechar, comment, encoding, dialect, tupleize_cols, error_bad_lines, warn_bad_lines, skipfooter, doublequote, delim_whitespace, low_memory, memory_map, float_precision)\u001b[0m\n\u001b[0;32m    676\u001b[0m                     skip_blank_lines=skip_blank_lines)\n\u001b[0;32m    677\u001b[0m \u001b[1;33m\u001b[0m\u001b[0m\n\u001b[1;32m--> 678\u001b[1;33m         \u001b[1;32mreturn\u001b[0m \u001b[0m_read\u001b[0m\u001b[1;33m(\u001b[0m\u001b[0mfilepath_or_buffer\u001b[0m\u001b[1;33m,\u001b[0m \u001b[0mkwds\u001b[0m\u001b[1;33m)\u001b[0m\u001b[1;33m\u001b[0m\u001b[0m\n\u001b[0m\u001b[0;32m    679\u001b[0m \u001b[1;33m\u001b[0m\u001b[0m\n\u001b[0;32m    680\u001b[0m     \u001b[0mparser_f\u001b[0m\u001b[1;33m.\u001b[0m\u001b[0m__name__\u001b[0m \u001b[1;33m=\u001b[0m \u001b[0mname\u001b[0m\u001b[1;33m\u001b[0m\u001b[0m\n",
      "\u001b[1;32m~\\Anaconda3\\lib\\site-packages\\pandas\\io\\parsers.py\u001b[0m in \u001b[0;36m_read\u001b[1;34m(filepath_or_buffer, kwds)\u001b[0m\n\u001b[0;32m    438\u001b[0m \u001b[1;33m\u001b[0m\u001b[0m\n\u001b[0;32m    439\u001b[0m     \u001b[1;31m# Create the parser.\u001b[0m\u001b[1;33m\u001b[0m\u001b[1;33m\u001b[0m\u001b[0m\n\u001b[1;32m--> 440\u001b[1;33m     \u001b[0mparser\u001b[0m \u001b[1;33m=\u001b[0m \u001b[0mTextFileReader\u001b[0m\u001b[1;33m(\u001b[0m\u001b[0mfilepath_or_buffer\u001b[0m\u001b[1;33m,\u001b[0m \u001b[1;33m**\u001b[0m\u001b[0mkwds\u001b[0m\u001b[1;33m)\u001b[0m\u001b[1;33m\u001b[0m\u001b[0m\n\u001b[0m\u001b[0;32m    441\u001b[0m \u001b[1;33m\u001b[0m\u001b[0m\n\u001b[0;32m    442\u001b[0m     \u001b[1;32mif\u001b[0m \u001b[0mchunksize\u001b[0m \u001b[1;32mor\u001b[0m \u001b[0miterator\u001b[0m\u001b[1;33m:\u001b[0m\u001b[1;33m\u001b[0m\u001b[0m\n",
      "\u001b[1;32m~\\Anaconda3\\lib\\site-packages\\pandas\\io\\parsers.py\u001b[0m in \u001b[0;36m__init__\u001b[1;34m(self, f, engine, **kwds)\u001b[0m\n\u001b[0;32m    785\u001b[0m             \u001b[0mself\u001b[0m\u001b[1;33m.\u001b[0m\u001b[0moptions\u001b[0m\u001b[1;33m[\u001b[0m\u001b[1;34m'has_index_names'\u001b[0m\u001b[1;33m]\u001b[0m \u001b[1;33m=\u001b[0m \u001b[0mkwds\u001b[0m\u001b[1;33m[\u001b[0m\u001b[1;34m'has_index_names'\u001b[0m\u001b[1;33m]\u001b[0m\u001b[1;33m\u001b[0m\u001b[0m\n\u001b[0;32m    786\u001b[0m \u001b[1;33m\u001b[0m\u001b[0m\n\u001b[1;32m--> 787\u001b[1;33m         \u001b[0mself\u001b[0m\u001b[1;33m.\u001b[0m\u001b[0m_make_engine\u001b[0m\u001b[1;33m(\u001b[0m\u001b[0mself\u001b[0m\u001b[1;33m.\u001b[0m\u001b[0mengine\u001b[0m\u001b[1;33m)\u001b[0m\u001b[1;33m\u001b[0m\u001b[0m\n\u001b[0m\u001b[0;32m    788\u001b[0m \u001b[1;33m\u001b[0m\u001b[0m\n\u001b[0;32m    789\u001b[0m     \u001b[1;32mdef\u001b[0m \u001b[0mclose\u001b[0m\u001b[1;33m(\u001b[0m\u001b[0mself\u001b[0m\u001b[1;33m)\u001b[0m\u001b[1;33m:\u001b[0m\u001b[1;33m\u001b[0m\u001b[0m\n",
      "\u001b[1;32m~\\Anaconda3\\lib\\site-packages\\pandas\\io\\parsers.py\u001b[0m in \u001b[0;36m_make_engine\u001b[1;34m(self, engine)\u001b[0m\n\u001b[0;32m   1012\u001b[0m     \u001b[1;32mdef\u001b[0m \u001b[0m_make_engine\u001b[0m\u001b[1;33m(\u001b[0m\u001b[0mself\u001b[0m\u001b[1;33m,\u001b[0m \u001b[0mengine\u001b[0m\u001b[1;33m=\u001b[0m\u001b[1;34m'c'\u001b[0m\u001b[1;33m)\u001b[0m\u001b[1;33m:\u001b[0m\u001b[1;33m\u001b[0m\u001b[0m\n\u001b[0;32m   1013\u001b[0m         \u001b[1;32mif\u001b[0m \u001b[0mengine\u001b[0m \u001b[1;33m==\u001b[0m \u001b[1;34m'c'\u001b[0m\u001b[1;33m:\u001b[0m\u001b[1;33m\u001b[0m\u001b[0m\n\u001b[1;32m-> 1014\u001b[1;33m             \u001b[0mself\u001b[0m\u001b[1;33m.\u001b[0m\u001b[0m_engine\u001b[0m \u001b[1;33m=\u001b[0m \u001b[0mCParserWrapper\u001b[0m\u001b[1;33m(\u001b[0m\u001b[0mself\u001b[0m\u001b[1;33m.\u001b[0m\u001b[0mf\u001b[0m\u001b[1;33m,\u001b[0m \u001b[1;33m**\u001b[0m\u001b[0mself\u001b[0m\u001b[1;33m.\u001b[0m\u001b[0moptions\u001b[0m\u001b[1;33m)\u001b[0m\u001b[1;33m\u001b[0m\u001b[0m\n\u001b[0m\u001b[0;32m   1015\u001b[0m         \u001b[1;32melse\u001b[0m\u001b[1;33m:\u001b[0m\u001b[1;33m\u001b[0m\u001b[0m\n\u001b[0;32m   1016\u001b[0m             \u001b[1;32mif\u001b[0m \u001b[0mengine\u001b[0m \u001b[1;33m==\u001b[0m \u001b[1;34m'python'\u001b[0m\u001b[1;33m:\u001b[0m\u001b[1;33m\u001b[0m\u001b[0m\n",
      "\u001b[1;32m~\\Anaconda3\\lib\\site-packages\\pandas\\io\\parsers.py\u001b[0m in \u001b[0;36m__init__\u001b[1;34m(self, src, **kwds)\u001b[0m\n\u001b[0;32m   1706\u001b[0m         \u001b[0mkwds\u001b[0m\u001b[1;33m[\u001b[0m\u001b[1;34m'usecols'\u001b[0m\u001b[1;33m]\u001b[0m \u001b[1;33m=\u001b[0m \u001b[0mself\u001b[0m\u001b[1;33m.\u001b[0m\u001b[0musecols\u001b[0m\u001b[1;33m\u001b[0m\u001b[0m\n\u001b[0;32m   1707\u001b[0m \u001b[1;33m\u001b[0m\u001b[0m\n\u001b[1;32m-> 1708\u001b[1;33m         \u001b[0mself\u001b[0m\u001b[1;33m.\u001b[0m\u001b[0m_reader\u001b[0m \u001b[1;33m=\u001b[0m \u001b[0mparsers\u001b[0m\u001b[1;33m.\u001b[0m\u001b[0mTextReader\u001b[0m\u001b[1;33m(\u001b[0m\u001b[0msrc\u001b[0m\u001b[1;33m,\u001b[0m \u001b[1;33m**\u001b[0m\u001b[0mkwds\u001b[0m\u001b[1;33m)\u001b[0m\u001b[1;33m\u001b[0m\u001b[0m\n\u001b[0m\u001b[0;32m   1709\u001b[0m \u001b[1;33m\u001b[0m\u001b[0m\n\u001b[0;32m   1710\u001b[0m         \u001b[0mpassed_names\u001b[0m \u001b[1;33m=\u001b[0m \u001b[0mself\u001b[0m\u001b[1;33m.\u001b[0m\u001b[0mnames\u001b[0m \u001b[1;32mis\u001b[0m \u001b[1;32mNone\u001b[0m\u001b[1;33m\u001b[0m\u001b[0m\n",
      "\u001b[1;32mpandas\\_libs\\parsers.pyx\u001b[0m in \u001b[0;36mpandas._libs.parsers.TextReader.__cinit__\u001b[1;34m()\u001b[0m\n",
      "\u001b[1;32mpandas\\_libs\\parsers.pyx\u001b[0m in \u001b[0;36mpandas._libs.parsers.TextReader._setup_parser_source\u001b[1;34m()\u001b[0m\n",
      "\u001b[1;31mFileNotFoundError\u001b[0m: File b'WA_Fn-UseC_-Telco-Customer-Churn.csv' does not exist"
     ]
    }
   ],
   "source": [
    "df_load = pd.read_csv('WA_Fn-UseC_-Telco-Customer-Churn.csv')\n",
    "df_load.head()"
   ]
  },
  {
   "cell_type": "code",
   "execution_count": null,
   "metadata": {},
   "outputs": [],
   "source": [
    "df_load.describe()\n",
    "df_load.dtypes"
   ]
  },
  {
   "cell_type": "code",
   "execution_count": null,
   "metadata": {},
   "outputs": [],
   "source": [
    "quan = [col for col in df_load.columns if df_load[col].dtype != 'object']\n",
    "qual = [col for col in df_load.columns if df_load[col].dtype == 'object']\n",
    "df_qual = df_load[qual]\n",
    "df_quan = df_load[quan]"
   ]
  },
  {
   "cell_type": "code",
   "execution_count": null,
   "metadata": {},
   "outputs": [],
   "source": [
    "df_qual.nunique()"
   ]
  },
  {
   "cell_type": "code",
   "execution_count": null,
   "metadata": {},
   "outputs": [],
   "source": [
    "df_qual.nunique().value_counts().keys()#[df_qual.nunique().keys()]"
   ]
  },
  {
   "cell_type": "code",
   "execution_count": null,
   "metadata": {},
   "outputs": [],
   "source": [
    "df_qual['Churn'].value_counts().reset_index()\n",
    "#pd.DataFrame(columns = x.values().tolist(), index = x.keys().tolist())"
   ]
  },
  {
   "cell_type": "markdown",
   "metadata": {},
   "source": [
    "## Data Manipulation"
   ]
  },
  {
   "cell_type": "code",
   "execution_count": null,
   "metadata": {},
   "outputs": [],
   "source": [
    "df_load.isnull().sum() ;"
   ]
  },
  {
   "cell_type": "code",
   "execution_count": null,
   "metadata": {},
   "outputs": [],
   "source": [
    "#replacing colums in the dataframe\n",
    "print(df_qual.nunique()[df_qual.nunique() == 2]) \n",
    "df_qual['Churn'].replace({'yes': 1, 'No': 0}) ;"
   ]
  },
  {
   "cell_type": "code",
   "execution_count": null,
   "metadata": {},
   "outputs": [],
   "source": [
    "bins = df_qual.nunique()[df_qual.nunique() == 2] ; print(bins.keys())\n",
    "df_qual[bins.keys()].head(10) ;"
   ]
  },
  {
   "cell_type": "code",
   "execution_count": null,
   "metadata": {},
   "outputs": [],
   "source": [
    "#labels\n",
    "lab = df_qual[\"Churn\"].value_counts().keys().tolist() #; print(lab); print(telcom['Churn'].value_counts())\n",
    "#values\n",
    "val = df_qual[\"Churn\"].value_counts().values.tolist()\n",
    "\n",
    "trace = go.Pie(labels = lab ,\n",
    "               values = val ,\n",
    "               marker = dict(colors =  [ 'royalblue' ,'lime'],\n",
    "                             line = dict(color = \"white\",\n",
    "                                         width =  1.3)\n",
    "                            ),\n",
    "               rotation = 90,\n",
    "               hoverinfo = \"label+value+text\",\n",
    "               hole = .5\n",
    "              )\n",
    "layout = go.Layout(dict(title = \"Customer attrition in data\",\n",
    "                        plot_bgcolor  = \"rgb(243,243,243)\",\n",
    "                        paper_bgcolor = \"rgb(243,243,243)\",\n",
    "                       )\n",
    "                  )\n",
    "\n",
    "data = [trace]\n",
    "fig = go.Figure(data = data,layout = layout)\n",
    "py.iplot(fig)"
   ]
  },
  {
   "cell_type": "code",
   "execution_count": null,
   "metadata": {},
   "outputs": [],
   "source": [
    "\n",
    "trace0 = go.Bar(\n",
    "            y = df_qual['Churn'].value_counts(normalize=True).values, x = df_qual['Churn'].value_counts().keys(),\n",
    "            marker = dict(color = ['seagreen','indianred']))\n",
    "layout = go.Layout(\n",
    "            title = 'Churn (Target) Distribution',\n",
    "            )\n",
    "data = [trace0]\n",
    "fig = go.Figure(data = data, layout = layout)\n",
    "py.iplot(fig)"
   ]
  },
  {
   "cell_type": "markdown",
   "metadata": {},
   "source": [
    "## variable relation with attrition(Churn)"
   ]
  },
  {
   "cell_type": "code",
   "execution_count": null,
   "metadata": {},
   "outputs": [],
   "source": [
    "col = 'Contract'\n",
    "labs = df_qual.groupby(['Churn'])[col]#.reset_index().value_counts().keys()\n",
    "labs = df_qual.query('Churn == \"Yes\"')[col].value_counts()\n",
    "vals = df_qual.groupby(['Churn'])[col].value_counts().values\n",
    "labs.reset_index()\n",
    "#labs.value_counts() #.reset_index()"
   ]
  },
  {
   "cell_type": "code",
   "execution_count": null,
   "metadata": {},
   "outputs": [],
   "source": [
    "df_quan.describe()"
   ]
  },
  {
   "cell_type": "code",
   "execution_count": null,
   "metadata": {},
   "outputs": [],
   "source": [
    "# plotting variable relation with Churn\n",
    "c = df_load.loc[df_qual['Churn'] == 'Yes', :]\n",
    "nc = df_load.loc[df_qual['Churn'] == 'No', :]\n",
    "c.head() ;"
   ]
  },
  {
   "cell_type": "code",
   "execution_count": null,
   "metadata": {},
   "outputs": [],
   "source": [
    "\n",
    "def piePlot(col):\n",
    "    labs = c[col].value_counts().keys().tolist() \n",
    "    labs_nc = nc[col].value_counts().keys().tolist() #;print(labs_nc)\n",
    "    vals = c[col].value_counts().values.tolist() # print(vals)\n",
    "    vals_nc = nc[col].value_counts().values.tolist() #;print(vals_nc) ;\n",
    "    #'''\n",
    "    trace0 = go.Pie(labels = labs, values = vals,\n",
    "    #domain are used to specify the location of the object on the x axis since we're plotting multiple object we need to specify their domain\n",
    "                    domain = dict(x = [0, 0.48]), \n",
    "                    name = 'Churn customers',\n",
    "                    hoverinfo = 'label+percent+name',\n",
    "             marker = dict(line= dict(width = 2, color= 'rgb(243, 243,243)')),\n",
    "            hole = 0.6)\n",
    "    \n",
    "    trace1 = go.Pie(labels = labs_nc, values = vals_nc,\n",
    "                    domain = dict(x= [0.55, 1]),\n",
    "                    name = 'non Churn Customers',\n",
    "                    hoverinfo = \"label+percent+name\",\n",
    "                   marker = dict(line=dict(width =  2, color= 'rgb(243,243,243)')),\n",
    "                   hole = 0.6)\n",
    "\n",
    "    layout = go.Layout(dict(title = col + \" distribution in customer attrition \",\n",
    "                            plot_bgcolor  = \"rgb(243,243,243)\",\n",
    "                            paper_bgcolor = \"rgb(243,243,243)\",\n",
    "                            annotations = [dict(text = \"churn customers\",\n",
    "                                                font = dict(size = 13),\n",
    "                                                showarrow = False,\n",
    "                                                x = .15, y = .5),\n",
    "                                           dict(text = \"Non churn customers\",\n",
    "                                                font = dict(size = 13),\n",
    "                                                showarrow = False,\n",
    "                                                x = .88,y = .5\n",
    "                                               )\n",
    "                                          ]\n",
    "                           )\n",
    "                      )\n",
    "\n",
    "    data = [trace0,trace1]\n",
    "    fig  = go.Figure(data = data,layout = layout)\n",
    "    fig.write_image('./plots folder/fig_pie'+col+'.png')\n",
    "    py.iplot(fig)\n",
    "    \n",
    "\n",
    "    \n",
    "def histPlot(col):\n",
    "    trace0 = go.Histogram(x = c[col], #.value_counts().keys(),\n",
    "                         histnorm = 'percent',\n",
    "                          name = 'Churn customers',\n",
    "                          marker = dict(line = dict(width=0.5 , color= 'black'))\n",
    "                         )\n",
    "    trace1 = go.Histogram(x = nc[col], #.value_counts().keys(),\n",
    "                          histnorm = 'percent',\n",
    "                          name = 'Non churn customers',\n",
    "                          marker = dict(line= dict(width= 0.5, color= 'black')))\n",
    "    layout = go.Layout(dict(title= col+' distribution in customer attrition',\n",
    "                       xaxis = dict(title = col,\n",
    "                                   gridwidth =2, ticklen =0.5),\n",
    "                      yaxis = dict(title = 'percent',\n",
    "                                  gridwidth =2, ticklen = 0.5)))\n",
    "    data = [trace0, trace1]\n",
    "    fig = go.Figure(data = data, layout = layout)\n",
    "    #saving the plot images as png\n",
    "    fig.write_image('./plots folder/fig_bar'+col+'.png')\n",
    "    py.iplot(fig)"
   ]
  },
  {
   "cell_type": "code",
   "execution_count": null,
   "metadata": {},
   "outputs": [],
   "source": [
    "df_qual.dtypes"
   ]
  },
  {
   "cell_type": "code",
   "execution_count": null,
   "metadata": {},
   "outputs": [],
   "source": [
    "i = 0\n",
    "for col in qual:\n",
    "    if col != \"customerID\":\n",
    "        piePlot(col)"
   ]
  },
  {
   "cell_type": "code",
   "execution_count": null,
   "metadata": {},
   "outputs": [],
   "source": [
    "fig.savefig('./to.png' )"
   ]
  },
  {
   "cell_type": "code",
   "execution_count": null,
   "metadata": {},
   "outputs": [],
   "source": [
    "fig.write_image('./fig1.png')"
   ]
  },
  {
   "cell_type": "code",
   "execution_count": null,
   "metadata": {},
   "outputs": [],
   "source": [
    "for col in quan:\n",
    "    #if col != ('SeniorCitizen') or ('tenure'):\n",
    "    histPlot(col)"
   ]
  },
  {
   "cell_type": "markdown",
   "metadata": {},
   "source": [
    "## Data preproceessing"
   ]
  },
  {
   "cell_type": "code",
   "execution_count": null,
   "metadata": {},
   "outputs": [],
   "source": [
    "#analysing total charges\n",
    "x = df_load['TotalCharges'].value_counts()\n",
    "x = df_load['TotalCharges']\n",
    "x.describe()\n",
    "#total charges has 11 blank spaces which spaces which will convert to nan\n",
    "#total charges is an object type but it's data are float numbers so we'll convert it to float64\n",
    "#x = x.astype('float64')\n",
    "#x"
   ]
  },
  {
   "cell_type": "code",
   "execution_count": null,
   "metadata": {},
   "outputs": [],
   "source": [
    "df_load['TotalCharges'] = df_load['TotalCharges'].replace(\" \", np.nan)\n",
    "#we'll be dropping the missing datas from TotalCharges\n",
    "#x = df_qual[df_qual['TotalCharges'].notnull()].describe().T\n",
    "\n",
    "df_load['TotalCharges'] = df_load['TotalCharges'].astype(float)\n",
    "df_load = df_load[df_load['TotalCharges'].notnull()]"
   ]
  },
  {
   "cell_type": "code",
   "execution_count": null,
   "metadata": {},
   "outputs": [],
   "source": [
    "# We'll start by label encoding numerical binary columns \n",
    "\n",
    "bin_col = [i for i in df_qual.columns]\n",
    "#cat_col = df_qual.nunique()[df_qual.nunique() > 6]\n",
    "bin_col = df_load.nunique()[df_load.nunique() == 2].keys().tolist()\n",
    "multi_col = df_load.nunique()[df_load.nunique() < 6].keys().tolist() \n",
    "ID = ['customerID']\n",
    "target = ['Churn']\n",
    "#multi_col = [i for i in multi_col if i not in bin_col + target]\n",
    "multi_col = [i for i in multi_col if i not in bin_col+ ID + target]\n",
    "num_col = [i for i in df_load.columns if i not in multi_col+ bin_col+ ID+ target]\n",
    "df_load.nunique()\n",
    "multi_col"
   ]
  },
  {
   "cell_type": "code",
   "execution_count": null,
   "metadata": {},
   "outputs": [],
   "source": [
    "#label encoding binary columns\n",
    "le = LabelEncoder()\n",
    "for bi in bin_col:\n",
    "    df_load[bi] = le.fit_transform(df_load[bi])\n",
    "# one-hot encoding multi categorical columns to preserve/avoid loss  of the feature value importance\n",
    "#df_load[multi_col] = \n",
    "df_load = pd.get_dummies(data = df_load, columns = multi_col)\n",
    "#pd.get_dummies(data = df_load, columns = multi_col).head().T\n",
    "#df_load.head().T"
   ]
  },
  {
   "cell_type": "code",
   "execution_count": null,
   "metadata": {},
   "outputs": [],
   "source": [
    "#scaling numerical features\n",
    "sc = StandardScaler()\n",
    "scaled = sc.fit_transform(df_load[num_col])\n",
    "scaled = pd.DataFrame(scaled, columns = num_col)\n",
    "df_load = df_load.drop(num_col, axis = 1)\n",
    "df_load = df_load.merge(scaled, how = \"left\", right_index = True, left_index = True)"
   ]
  },
  {
   "cell_type": "code",
   "execution_count": null,
   "metadata": {},
   "outputs": [],
   "source": [
    "# feature selection\n",
    "corr_matrix = df_load.corr()\n",
    "corr_matrix = corr_matrix.abs()\n",
    "# we're taking the upper triangle of the correlation matrix to remove duplication because each correltion appears twice in the matrix\n",
    "np.triu(np.ones(corr_matrix.shape), k = 1).astype(np.bool)\n",
    "#help(np.triu)\n",
    "corr_matrix\n",
    "#help(np.where)\n",
    "upper = corr_matrix.where(np.triu(np.ones(corr_matrix.shape), k = 1).astype(np.bool))\n",
    "#we'll remove any column which has a specific level of correleation with another column since the other column will still be there\n",
    "threshold = 0.90\n",
    "to_remove = [col for col in upper.columns if any(upper[col] >= threshold)]\n",
    "print(f'we are going to remove these {len(to_remove)} colums')\n",
    "to_remove"
   ]
  },
  {
   "cell_type": "code",
   "execution_count": null,
   "metadata": {},
   "outputs": [],
   "source": [
    "#upper_vis = upper.copy()\n",
    "upper_vis = upper[upper.abs() > threshold]\n",
    "#help(sns.heatmap)\n",
    "f, ax = plt.subplots(figsize=(15, 9))\n",
    "sns.heatmap(upper_vis, annot = True );"
   ]
  },
  {
   "cell_type": "code",
   "execution_count": null,
   "metadata": {},
   "outputs": [],
   "source": [
    "df_load= df_load.drop(columns= to_remove, axis = 1)\n",
    "#[x for x in to_remove if x in df_load.columns]\n",
    "df_load.shape"
   ]
  },
  {
   "cell_type": "code",
   "execution_count": null,
   "metadata": {},
   "outputs": [],
   "source": [
    "## splitting train and test set"
   ]
  },
  {
   "cell_type": "code",
   "execution_count": null,
   "metadata": {},
   "outputs": [],
   "source": [
    "#df_load = \n",
    "df_load = df_load.dropna( axis = 0)\n",
    "#df_load.columns"
   ]
  },
  {
   "cell_type": "code",
   "execution_count": null,
   "metadata": {},
   "outputs": [],
   "source": [
    "\n",
    "X_train = df_load.drop(['Churn', 'customerID'], axis = 1)\n",
    "Y_train = df_load['Churn']\n",
    "\n",
    "X_train, X_test, Y_train, Y_test = train_test_split(X_train, Y_train, test_size = 0.2, random_state = 1)"
   ]
  },
  {
   "cell_type": "code",
   "execution_count": null,
   "metadata": {},
   "outputs": [],
   "source": [
    "type(Y_train)\n",
    "#type(X_train.values.shape)\n",
    "#X_train.values.shape'\n",
    "X_train.values[:4, :].shape"
   ]
  },
  {
   "cell_type": "code",
   "execution_count": null,
   "metadata": {},
   "outputs": [],
   "source": [
    "colsX = X_train.columns.tolist()"
   ]
  },
  {
   "cell_type": "code",
   "execution_count": null,
   "metadata": {},
   "outputs": [],
   "source": [
    "df_load.isnull().sum()\n",
    "type(X_train[colsX].values)"
   ]
  },
  {
   "cell_type": "markdown",
   "metadata": {},
   "source": [
    "### model selection\n",
    "we will use pipeline to select from some models which wil perform better"
   ]
  },
  {
   "cell_type": "code",
   "execution_count": null,
   "metadata": {},
   "outputs": [],
   "source": [
    "Y_train.value_counts()"
   ]
  },
  {
   "cell_type": "code",
   "execution_count": null,
   "metadata": {},
   "outputs": [],
   "source": [
    "pipe_svm = Pipeline([('sc', StandardScaler()), ('clf', SVC())])\n",
    "pipe_lr = Pipeline([('sc', StandardScaler()), ('clf', LogisticRegression())])\n",
    "pipe_rf = Pipeline([('sc', StandardScaler()), ('clf', RandomForestClassifier())])\n",
    "pipe_xg = Pipeline([('sc', StandardScaler()), ('clf', XGBClassifier())])\n",
    "\n",
    "pipes = [pipe_svm, pipe_lr, pipe_rf, pipe_xg]\n",
    "models = ['SVM', 'Logistic Regression', 'Random Forest', 'Xgboost']"
   ]
  },
  {
   "cell_type": "code",
   "execution_count": null,
   "metadata": {},
   "outputs": [],
   "source": [
    "scoring = 'accuracy'\n",
    "n_folds = 8\n",
    "seed = 1\n",
    "\n",
    "results, names  = [], [] \n",
    "\n",
    "for idx, model  in enumerate(pipes):\n",
    "    kfold = KFold(n_splits=n_folds, random_state=seed)\n",
    "    cv_results = cross_val_score(model, X_train[colsX].values, Y_train.values, \n",
    "                                 cv=kfold, scoring=scoring, n_jobs=-1)    \n",
    "    names.append(models[idx])\n",
    "    results.append(cv_results)    \n",
    "    msg = \"%s: %f (+/- %f)\" % (models[idx], cv_results.mean(),  \n",
    "                               cv_results.std())\n",
    "    print(msg)"
   ]
  },
  {
   "cell_type": "code",
   "execution_count": null,
   "metadata": {},
   "outputs": [],
   "source": [
    "fig = plt.figure(figsize=(15,7))\n",
    "sns.boxplot(x = models, y =results) ;"
   ]
  },
  {
   "cell_type": "markdown",
   "metadata": {},
   "source": [
    "our best model was logistic regression"
   ]
  },
  {
   "cell_type": "code",
   "execution_count": null,
   "metadata": {},
   "outputs": [],
   "source": [
    "nfolds = 10\n",
    "kfolds = KFold(n_splits =10, random_state = 1)\n",
    "scoring = 'accuracy'\n",
    "results, name = [], []\n",
    "for idx, model in enumerate(pipes):\n",
    "    cross_val = cross_val_score(model, X_train, Y_train, cv = kfolds, scoring = scoring, n_jobs = -1)\n",
    "    cv_results = cross_val_score(model, X_train.values, Y_train, \n",
    "                                 cv=kfolds, scoring=scoring, n_jobs=-1)\n",
    "    if idx ==2: print(cv_results)\n",
    "    print(models[idx],f\" accuracy: {cv_results.mean()}\")\n",
    "    "
   ]
  },
  {
   "cell_type": "code",
   "execution_count": null,
   "metadata": {},
   "outputs": [],
   "source": [
    "\n",
    "cols = [i for i in df_load.columns if i not in target + ID]\n",
    "#print(cols)\n",
    "def telecom_Churn_pred(algorithm, X_train, X_test, Y_train, Y_test, cols, coef):\n",
    "    model = algorithm.fit(X_train, Y_train)\n",
    "    pred = model.predict(X_test)\n",
    "    prob = model.predict_proba(X_test) ;# print(prob)\n",
    "    \n",
    "    if coef == 'coefficient':\n",
    "        coefficient = model.coef_.ravel() #**\n",
    "    else:\n",
    "        coefficient = model.feature_importance_\n",
    "    #df_cols = pd.DataFrame(cols) #pd.DataFrame(columns = cols)\n",
    "    #coef_summary = pd.merge(df_cols, coefficient, how = 'left', left_index = True, right_index = True)\n",
    "    coef_summary = pd.DataFrame(coefficient, X_train.columns).reset_index()\n",
    "    #coef_summary = pd.DataFrame(algorithm.coef_.ravel(), X_train.columns).reset_index()\n",
    "    #print(coef_summary.columns)\n",
    "    coef_summary = coef_summary.rename(columns = {'index':'features', 0:'Coefficient'})\n",
    "    coef_summary = coef_summary.sort_values(by='Coefficient', ascending =False)\n",
    "    \n",
    "    print(f'classification report: \\n {classification_report(pred, Y_test)}')\n",
    "    print('The model accuracy is : ', accuracy_score(pred, Y_test))\n",
    "    conf_matrix = confusion_matrix(pred, Y_test)\n",
    "    model_roc_score  =roc_auc_score(pred, Y_test)\n",
    "    print('Area under curve : \\n', model_roc_score)\n",
    "    \n",
    "    trace0 = go.Heatmap(z = conf_matrix, \n",
    "                       x = ['Churn', 'NotChurn'],\n",
    "    \n",
    "                        y = ['Churn', 'NotChurn'])\n",
    "    plt.figure(figsize = (12,12))\n",
    "    plt.subplot(2,2,1)\n",
    "    sns.heatmap(conf_matrix, annot = True, fmt = 'd')\n",
    "    #saving the plot image\n",
    "    plt.savefig('./confusion_matrix.png')\n",
    "    #plt.close()\n",
    "    \n",
    "    #the roc_curve takes the actual values from the test set and predicted values and\n",
    "    #returns the false postive, true postive, and the threshold\n",
    "    fpr, tpr, threshold = roc_curve(Y_test, prob[:, 1]) #we're intrested in only the probability of postive outcomes only\n",
    "    \n",
    "    plt.subplot(2,2,2)\n",
    "    plt.plot(fpr, tpr, label= ('Area under curve: ', auc(fpr, tpr)), color = 'b')\n",
    "    plt.plot([0, 1], [0, 1], linestyle = 'dashed', color = 'k')\n",
    "    plt.savefig('./plots folder/ROC curve')\n",
    "    plt.subplot(2,2,3)\n",
    "    \n",
    "    ax = sns.barplot(x = \"Coefficient\" ,y =\"features\",data=coef_summary, palette=\"husl\")\n",
    "    plt.title(\"FEATURE IMPORTANCES\",fontsize =20)\n",
    "    for i,j in enumerate(coef_summary[\"Coefficient\"]):\n",
    "        ax.text(.011,i,j,weight = \"bold\")\n",
    "    #plt.plot(fpr,tpr,label = (\"Area_under the curve :\",auc(fpr,tpr)),color = \"r\")\n",
    "    #plt.plot([1,0],[1,0],linestyle = \"dashed\",color =\"k\")\n",
    "\n",
    "\n",
    "    trace0 = go.Bar(x = coef_summary[\"features\"],y = coef_summary[\"Coefficient\"],\n",
    "                name = \"coefficient\",\n",
    "                marker = dict(line = dict(width = .5,color = \"black\")),\n",
    "                opacity = .9)\n",
    "\n",
    "    layout = go.Layout(dict(title = \"Customer attrition in tenure groups\",\n",
    "                        plot_bgcolor  = \"rgb(243,243,243)\",\n",
    "                        paper_bgcolor = \"rgb(243,243,243)\",\n",
    "                        xaxis = dict(gridcolor = 'rgb(255, 255, 255)',\n",
    "                                     title = \"tenure group\",\n",
    "                                     zerolinewidth=1,ticklen=5,gridwidth=2),\n",
    "                        yaxis = dict(gridcolor = 'rgb(255, 255, 255)',\n",
    "                                     title = \"count\",\n",
    "                                     zerolinewidth=1,ticklen=5,gridwidth=2),\n",
    "                       )\n",
    "                  )\n",
    "    data = [trace0]\n",
    "    fig  = go.Figure(data=data,layout=layout)\n",
    "    iden = '10.png'\n",
    "    fig.write_image('./plots folder/fig'+iden)\n",
    "    #py.iplot(fig)\n",
    "    \n",
    "logit = LogisticRegression()\n",
    "\n",
    "telecom_Churn_pred(logit, X_train, X_test, Y_train, Y_test, col, 'coefficient')"
   ]
  },
  {
   "cell_type": "code",
   "execution_count": null,
   "metadata": {},
   "outputs": [],
   "source": []
  },
  {
   "cell_type": "code",
   "execution_count": null,
   "metadata": {},
   "outputs": [],
   "source": []
  },
  {
   "cell_type": "code",
   "execution_count": null,
   "metadata": {},
   "outputs": [],
   "source": []
  },
  {
   "cell_type": "code",
   "execution_count": null,
   "metadata": {},
   "outputs": [],
   "source": []
  },
  {
   "cell_type": "code",
   "execution_count": null,
   "metadata": {},
   "outputs": [],
   "source": []
  },
  {
   "cell_type": "code",
   "execution_count": null,
   "metadata": {},
   "outputs": [],
   "source": []
  }
 ],
 "metadata": {
  "kernelspec": {
   "display_name": "Python 3",
   "language": "python",
   "name": "python3"
  },
  "language_info": {
   "codemirror_mode": {
    "name": "ipython",
    "version": 3
   },
   "file_extension": ".py",
   "mimetype": "text/x-python",
   "name": "python",
   "nbconvert_exporter": "python",
   "pygments_lexer": "ipython3",
   "version": "3.7.0"
  }
 },
 "nbformat": 4,
 "nbformat_minor": 2
}
